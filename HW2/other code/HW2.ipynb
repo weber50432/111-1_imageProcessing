{
 "cells": [
  {
   "cell_type": "code",
   "execution_count": 1,
   "metadata": {},
   "outputs": [
    {
     "ename": "AttributeError",
     "evalue": "'HW2' object has no attribute 'brightnessNum'",
     "output_type": "error",
     "traceback": [
      "\u001b[0;31m---------------------------------------------------------------------------\u001b[0m",
      "\u001b[0;31mAttributeError\u001b[0m                            Traceback (most recent call last)",
      "\u001b[1;32m/Users/weber/Documents/GitHub/111-1_imageProcessing/HW2/code/HW2.ipynb Cell 1\u001b[0m in \u001b[0;36m<cell line: 27>\u001b[0;34m()\u001b[0m\n\u001b[1;32m     <a href='vscode-notebook-cell:/Users/weber/Documents/GitHub/111-1_imageProcessing/HW2/code/HW2.ipynb#W0sZmlsZQ%3D%3D?line=26'>27</a>\u001b[0m \u001b[39mif\u001b[39;00m \u001b[39m__name__\u001b[39m \u001b[39m==\u001b[39m \u001b[39m'\u001b[39m\u001b[39m__main__\u001b[39m\u001b[39m'\u001b[39m:\n\u001b[1;32m     <a href='vscode-notebook-cell:/Users/weber/Documents/GitHub/111-1_imageProcessing/HW2/code/HW2.ipynb#W0sZmlsZQ%3D%3D?line=27'>28</a>\u001b[0m     app \u001b[39m=\u001b[39m QtWidgets\u001b[39m.\u001b[39mQApplication(sys\u001b[39m.\u001b[39margv)\n\u001b[0;32m---> <a href='vscode-notebook-cell:/Users/weber/Documents/GitHub/111-1_imageProcessing/HW2/code/HW2.ipynb#W0sZmlsZQ%3D%3D?line=28'>29</a>\u001b[0m     stats \u001b[39m=\u001b[39m HW2()\n\u001b[1;32m     <a href='vscode-notebook-cell:/Users/weber/Documents/GitHub/111-1_imageProcessing/HW2/code/HW2.ipynb#W0sZmlsZQ%3D%3D?line=29'>30</a>\u001b[0m     stats\u001b[39m.\u001b[39mui\u001b[39m.\u001b[39mshow()\n\u001b[1;32m     <a href='vscode-notebook-cell:/Users/weber/Documents/GitHub/111-1_imageProcessing/HW2/code/HW2.ipynb#W0sZmlsZQ%3D%3D?line=30'>31</a>\u001b[0m     sys\u001b[39m.\u001b[39mexit(app\u001b[39m.\u001b[39mexec_())\n",
      "\u001b[1;32m/Users/weber/Documents/GitHub/111-1_imageProcessing/HW2/code/HW2.ipynb Cell 1\u001b[0m in \u001b[0;36mHW2.__init__\u001b[0;34m(self)\u001b[0m\n\u001b[1;32m      <a href='vscode-notebook-cell:/Users/weber/Documents/GitHub/111-1_imageProcessing/HW2/code/HW2.ipynb#W0sZmlsZQ%3D%3D?line=7'>8</a>\u001b[0m \u001b[39mdef\u001b[39;00m \u001b[39m__init__\u001b[39m(\u001b[39mself\u001b[39m):\n\u001b[1;32m      <a href='vscode-notebook-cell:/Users/weber/Documents/GitHub/111-1_imageProcessing/HW2/code/HW2.ipynb#W0sZmlsZQ%3D%3D?line=8'>9</a>\u001b[0m     \u001b[39mself\u001b[39m\u001b[39m.\u001b[39mui \u001b[39m=\u001b[39m uic\u001b[39m.\u001b[39mloadUi(\u001b[39m\"\u001b[39m\u001b[39mHW2_layout.ui\u001b[39m\u001b[39m\"\u001b[39m)\n\u001b[0;32m---> <a href='vscode-notebook-cell:/Users/weber/Documents/GitHub/111-1_imageProcessing/HW2/code/HW2.ipynb#W0sZmlsZQ%3D%3D?line=9'>10</a>\u001b[0m     \u001b[39mself\u001b[39;49m\u001b[39m.\u001b[39;49mbrightnessNum\u001b[39m.\u001b[39mvalueChanged[\u001b[39m'\u001b[39m\u001b[39mint\u001b[39m\u001b[39m'\u001b[39m]\u001b[39m.\u001b[39mconnect(\u001b[39mself\u001b[39m\u001b[39m.\u001b[39mbrightness_value)\n\u001b[1;32m     <a href='vscode-notebook-cell:/Users/weber/Documents/GitHub/111-1_imageProcessing/HW2/code/HW2.ipynb#W0sZmlsZQ%3D%3D?line=10'>11</a>\u001b[0m     \u001b[39mself\u001b[39m\u001b[39m.\u001b[39mcontrastNum\u001b[39m.\u001b[39mvalueChanged[\u001b[39m'\u001b[39m\u001b[39mint\u001b[39m\u001b[39m'\u001b[39m]\u001b[39m.\u001b[39mconnect(\u001b[39mself\u001b[39m\u001b[39m.\u001b[39mcontrast_value)\n\u001b[1;32m     <a href='vscode-notebook-cell:/Users/weber/Documents/GitHub/111-1_imageProcessing/HW2/code/HW2.ipynb#W0sZmlsZQ%3D%3D?line=11'>12</a>\u001b[0m     \u001b[39mself\u001b[39m\u001b[39m.\u001b[39mpushButton_2\u001b[39m.\u001b[39mclicked\u001b[39m.\u001b[39mconnect(\u001b[39mself\u001b[39m\u001b[39m.\u001b[39mloadImage)\n",
      "\u001b[0;31mAttributeError\u001b[0m: 'HW2' object has no attribute 'brightnessNum'"
     ]
    },
    {
     "ename": "",
     "evalue": "",
     "output_type": "error",
     "traceback": [
      "\u001b[1;31mThe Kernel crashed while executing code in the the current cell or a previous cell. Please review the code in the cell(s) to identify a possible cause of the failure. Click <a href='https://aka.ms/vscodeJupyterKernelCrash'>here</a> for more info. View Jupyter <a href='command:jupyter.viewOutput'>log</a> for further details."
     ]
    }
   ],
   "source": [
    "from PyQt5 import uic, QtWidgets,QtGui\n",
    "import sys\n",
    "import cv2\n",
    "import numpy as np\n",
    "import pyqtgraph as pg\n",
    "class HW2:\n",
    "\n",
    "    def __init__(self):\n",
    "        self.ui = uic.loadUi(\"HW2_layout.ui\")\n",
    "        self.brightnessNum.valueChanged['int'].connect(self.brightness_value)\n",
    "        self.contrastNum.valueChanged['int'].connect(self.contrast_value)\n",
    "        self.pushButton_2.clicked.connect(self.loadImage)\n",
    "        self.filename = None  # Will hold the image address location\n",
    "        self.tmp = None  # Will hold the temporary image for display\n",
    "        self.brightness_value_now = 0  # Updated brightness value\n",
    "        self.contrast_value_now = 0  # Updated contrast value\n",
    "    def loadImage(self):\n",
    "        filename, _ = QtWidgets.QFileDialog.getOpenFileName(\n",
    "            None, 'Open Image', 'Image', '*.png *.jpg *.bmp')\n",
    "        if filename == '':\n",
    "            return\n",
    "\n",
    "        self.img = cv2.imread(filename, -1)\n",
    "\n",
    "\n",
    "\n",
    "if __name__ == '__main__':\n",
    "    app = QtWidgets.QApplication(sys.argv)\n",
    "    stats = HW2()\n",
    "    stats.ui.show()\n",
    "    sys.exit(app.exec_())\n"
   ]
  }
 ],
 "metadata": {
  "kernelspec": {
   "display_name": "Python 3.10.6 ('imageProcessing')",
   "language": "python",
   "name": "python3"
  },
  "language_info": {
   "codemirror_mode": {
    "name": "ipython",
    "version": 3
   },
   "file_extension": ".py",
   "mimetype": "text/x-python",
   "name": "python",
   "nbconvert_exporter": "python",
   "pygments_lexer": "ipython3",
   "version": "3.10.6"
  },
  "orig_nbformat": 4,
  "vscode": {
   "interpreter": {
    "hash": "47cd3ad7b0491b771d6792592afd190857a98c9ad588256adc90f65798d4c8de"
   }
  }
 },
 "nbformat": 4,
 "nbformat_minor": 2
}
